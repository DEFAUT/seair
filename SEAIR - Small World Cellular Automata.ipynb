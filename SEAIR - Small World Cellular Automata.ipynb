{
 "cells": [
  {
   "cell_type": "markdown",
   "metadata": {},
   "source": [
    "# SEAIR - Small World Cellular Automata\n",
    "\n",
    "This is the jupyter notebook for studying Small World Cellular Automata of SEAIR model.\n",
    "\n",
    "The SEAIR model (Susceptible -> Exposed -> Asymptomatic -> Infected -> Recovered) is under studies and will be specifically used for the study of COVID-19 infectious diseases.  \n",
    "\n",
    "Thus, in a first analysis, an individual who is recovered remains this way for the rest of the simulation.  \n",
    "\n",
    "This actual implementation applieds the SIR modeling rules to a cellular automata network.\n",
    "In addition, the mobility of network elements is also modeled on this this stochastic modeling approach by applying small-world connections to them.\n",
    "\n",
    "This is given by below equation:\n",
    "![Equation](images/equacao2.png)\n",
    "where ![Equation](images/condicao1.png)\n",
    "\n",
    "- Global probability component of infection is defined by equation\n",
    "![Equation](images/equacao3.png)\n",
    "where ![Equation](images/condicao2.png)\n",
    "\n",
    "- Local probability component of infection is defined by equation\n",
    "![Equation](images/equacao4.png)\n",
    "where ![Equation](images/condicao4.png)\n",
    "\n",
    "Both local and global probabilities describe the possibility of a given element of the grid become infected and start to spread the modeled disease to their neighbors (locally) or distant elements (globally).\n"
   ]
  },
  {
   "cell_type": "code",
   "execution_count": 9,
   "metadata": {},
   "outputs": [],
   "source": [
    "import time\n",
    "from time import sleep\n",
    "from threading import Thread\n",
    "\n",
    "import numpy as np\n",
    "import array\n",
    "import matplotlib.pyplot as plt\n",
    "\n",
    "from IPython import display\n",
    "from IPython.display import FileLink\n",
    "\n",
    "from ipycanvas import MultiCanvas, hold_canvas"
   ]
  },
  {
   "cell_type": "markdown",
   "metadata": {},
   "source": [
    "### Model parameters definition:"
   ]
  },
  {
   "cell_type": "code",
   "execution_count": 10,
   "metadata": {},
   "outputs": [],
   "source": [
    "SUSCEPTIBLE  = 0\n",
    "EXPOSED      = 1\n",
    "ASYMPTOMATIC = 2\n",
    "INFECTED     = 3\n",
    "RECOVERED    = 4\n",
    "\n",
    "tE = 4 # Exposed time (in days)\n",
    "tA = 5 # Asymptomatic time (in days)\n",
    "tI = 7 # Infected time (in days)\n",
    "\n",
    "#Global probability parameters\n",
    "G = 0.1\n",
    "ro = 0.5\n",
    "\n",
    "#Local probability parameters\n",
    "L = 1.0 - G\n",
    "plambda = 0.3\n",
    "\n",
    "pA = 0.3\n",
    "pR = 0.5\n",
    "\n",
    "MOORE_NB = 1\n",
    "VON_NEUMANN_NB = 0\n",
    "\n",
    "neighborhood = MOORE_NB # Values 0 -> Von Neumann; 1 -> Moore  "
   ]
  },
  {
   "cell_type": "markdown",
   "metadata": {},
   "source": [
    "### Cellular automata grid shape values definition:"
   ]
  },
  {
   "cell_type": "code",
   "execution_count": 11,
   "metadata": {},
   "outputs": [],
   "source": [
    "size   = 100;\n",
    "width  = size + 2\n",
    "height = size + 2\n",
    "\n",
    "cell_w = 500 / size\n",
    "cell_h = 500 / size\n",
    "\n",
    "radius = cell_h / 2"
   ]
  },
  {
   "cell_type": "markdown",
   "metadata": {},
   "source": [
    "### Population matrix definition:"
   ]
  },
  {
   "cell_type": "code",
   "execution_count": 12,
   "metadata": {},
   "outputs": [],
   "source": [
    "population = [[{'state' : SUSCEPTIBLE, 'time' : 0} for x in range(width)] for y in range(height)] \n",
    "\n",
    "population[round(height / 2) - 1][round(width / 2) - 1] = {'state' : INFECTED, 'time' : 1};\n",
    "\n",
    "x = population"
   ]
  },
  {
   "cell_type": "markdown",
   "metadata": {},
   "source": [
    "### Cellular Automata drawing function\n",
    "This function implementation does not print the susceptible elements in order to speed up the drawing process."
   ]
  },
  {
   "cell_type": "code",
   "execution_count": 13,
   "metadata": {},
   "outputs": [],
   "source": [
    "def draw(x, canvas, day, nS, nE, nA, nI, nR, newE, newA, newI):\n",
    "    with hold_canvas(canvas):\n",
    "        canvas.clear()\n",
    "        r = 0\n",
    "\n",
    "        for i in range(1, height - 1):\n",
    "            for j in range(1, width - 1):\n",
    "                if population[i][j]['time'] < 0:\n",
    "                    population[i][j]['time'] *= -1;\n",
    "\n",
    "                if population[i][j]['state']==SUSCEPTIBLE:  #draw as susceptible\n",
    "                    continue\n",
    "                elif population[i][j]['state']==EXPOSED: #draw as exposed\n",
    "                    canvas.fill_style = '#FFFF00'\n",
    "                elif population[i][j]['state']==ASYMPTOMATIC: #draw as asymptomatic\n",
    "                    canvas.fill_style = '#660000'\n",
    "                elif population[i][j]['state']==INFECTED: #draw as infected\n",
    "                    canvas.fill_style = '#FF0000'\n",
    "                elif population[i][j]['state']==RECOVERED: #draw as recovered\n",
    "                    canvas.fill_style = '#0000FF'\n",
    "                else: #draw as recovered\n",
    "                    canvas.fill_style = '#000000'\n",
    "                canvas.fill_arc(j * cell_w + radius, i * cell_h + radius, radius, 0, 2 * np.pi)\n",
    "                canvas.fill_style = '#000000'\n",
    "                canvas.font = '14px arial'\n",
    "                canvas.fill_text('TIME: %d' % day, width*cell_w + 80, 32)\n",
    "                canvas.fill_text('________________________', width*cell_w + 80, 34)\n",
    "                canvas.fill_text('SUSCEPTIBLE:       %s' % nS, width*cell_w + 80, 52)\n",
    "                canvas.fill_text('EXPOSED:           %s' % nE, width*cell_w + 80, 72)               \n",
    "                canvas.fill_text('ASYMPTOMATIC:      %s' % nA, width*cell_w + 80, 92)               \n",
    "                canvas.fill_text('INFECTED:          %s' % nI, width*cell_w + 80, 112)               \n",
    "                canvas.fill_text('RECOVERED:         %s' % nR, width*cell_w + 80, 132)               \n",
    "                canvas.fill_text('NEW EXPOSED:       %s' % newE, width*cell_w + 80, 152)\n",
    "                canvas.fill_text('NEW ASYMPTOMATIC:  %s' % newA, width*cell_w + 80, 172)\n",
    "                canvas.fill_text('NEW RECOVERED:     %s' % newI, width*cell_w + 80, 192)\n"
   ]
  },
  {
   "cell_type": "markdown",
   "metadata": {},
   "source": [
    "### SEAIR class definition\n",
    "This is the class definition of the main SEAIR model implemetation lifecycle."
   ]
  },
  {
   "cell_type": "code",
   "execution_count": 14,
   "metadata": {},
   "outputs": [],
   "source": [
    "class SEAIR(Thread):\n",
    "\n",
    "    def __init__(self, x, canvas):\n",
    "        self.x = x\n",
    "        self.canvas = canvas        \n",
    "\n",
    "        self.day=1\n",
    "        \n",
    "        self.nS=0\n",
    "        self.nE=0\n",
    "        self.nA=0\n",
    "        self.nI=1\n",
    "        self.nR=0\n",
    "        self.newE=0\n",
    "        self.newA=0\n",
    "        self.newI=0\n",
    "\n",
    "        self.data = {}\n",
    "        \n",
    "        self.vec_days             = []\n",
    "        self.vec_susceptible      = []\n",
    "        self.vec_exposed          = []\n",
    "        self.vec_asymptomatic     = []\n",
    "        self.vec_infected         = []\n",
    "        self.vec_recovered        = []\n",
    "        self.vec_new_exposed      = []\n",
    "        self.vec_new_asymptomatic = []  \n",
    "        self.vec_new_infected     = []\n",
    "                \n",
    "        self.results_file = ''\n",
    "        super(SEAIR, self).__init__()\n",
    "\n",
    "    def update_state(self,x):\n",
    "\n",
    "        self.nS = 0\n",
    "        self.nE = 0\n",
    "        self.nA = 0\n",
    "        self.nI = 0\n",
    "        self.nR = 0\n",
    "        self.newE = 0\n",
    "        self.newA = 0\n",
    "        self.newI = 0\n",
    "        \n",
    "        for i in range(1, height - 1):\n",
    "            for j in range (1, width - 1):\n",
    "                state = population[i][j]['state']\n",
    "                if state == SUSCEPTIBLE: \n",
    "                    self.nS+=1\n",
    "                elif state == EXPOSED:\n",
    "                    self.nE+=1\n",
    "                elif state == ASYMPTOMATIC:\n",
    "                    self.nA+=1\n",
    "                elif state == INFECTED:\n",
    "                    self.nI+=1\n",
    "                elif state == RECOVERED:\n",
    "                    self.nR+=1\n",
    "                    \n",
    "                    \n",
    "        self.vec_susceptible.append(self.nS)\n",
    "        self.vec_exposed.append(self.nE)\n",
    "        self.vec_asymptomatic.append(self.nA)\n",
    "        self.vec_infected.append(self.nI)\n",
    "        self.vec_recovered.append(self.nR)\n",
    "        self.vec_new_exposed.append(self.newE)\n",
    "        self.vec_new_asymptomatic.append(self.newA)\n",
    "        self.vec_new_infected.append(self.newI)\n",
    "        \n",
    "        self.vec_days.append(self.day)\n",
    "        \n",
    "        self.day+=1\n",
    "                    \n",
    "        #Adjusting global probability\n",
    "        pg  = self.nI/(size*size)\n",
    "        pg *= ro\n",
    "\n",
    "        for i in range(1, height - 1):\n",
    "            for j in range(1, width - 1):\n",
    "                if population[i][j]['state']==SUSCEPTIBLE:  #can be infected\n",
    "\n",
    "                    nbInf = 0\n",
    "                                        \n",
    "                    if population[i-1][j]['state'] == ASYMPTOMATIC or population[i-1][j]['state'] == INFECTED:\n",
    "                        nbInf+=1\n",
    "                    if population[i][j-1]['state'] == ASYMPTOMATIC or population[i][j-1]['state'] == INFECTED:\n",
    "                        nbInf+=1\n",
    "                    if population[i][j+1]['state'] == ASYMPTOMATIC or population[i][j+1]['state'] == INFECTED:\n",
    "                        nbInf+=1\n",
    "                    if population[i+1][j]['state'] == ASYMPTOMATIC or population[i+1][j]['state'] == INFECTED:\n",
    "                        nbInf+=1\n",
    "                    if neighborhood == MOORE_NB: \n",
    "                        if population[i+1][j+1]['state'] == ASYMPTOMATIC or population[i+1][j+1]['state'] == INFECTED:\n",
    "                            nbInf+=1\n",
    "                        if population[i-1][j-1]['state'] == ASYMPTOMATIC or population[i-1][j-1]['state'] == INFECTED:\n",
    "                            nbInf+=1\n",
    "                        if population[i-1][j+1]['state'] == ASYMPTOMATIC or population[i-1][j+1]['state'] == INFECTED:\n",
    "                            nbInf+=1\n",
    "                        if population[i+1][j-1]['state'] == ASYMPTOMATIC or population[i+1][j-1]['state'] == INFECTED:\n",
    "                            nbInf+=1\n",
    "                    \n",
    "                    if nbInf > 0: # if someone in neighbourhood is infected, calculate the local + global probability of infection\n",
    "                        pl=1-plambda;\n",
    "                        for k in range(0, nbInf-1):\n",
    "                            pl*=(1-plambda);\n",
    "                        pl=1-pl;\n",
    "                        p = pl;\n",
    "                        p*=L;\n",
    "                        p+=G*pg;\n",
    "                        if np.random.random_sample() < p: # the probability is inside the range of being infected by both local and global influence\n",
    "                            population[i][j]['time']=-1 # mark element to become a exposed (to be updated after all elements are visited)\n",
    "                            self.newE+=1\n",
    "                    else:\n",
    "                        if np.random.random_sample() < G*pg:  # the probability is inside the range of being infected due to global influence\n",
    "                            population[i][j]['time']=-1 # mark element to become a exposed (to be updated after all elements are visited)\n",
    "                            self.newE+=1       \n",
    "\n",
    "                else:\n",
    "                    population[i][j]['time']+=1  #increase time\n",
    "                    if (population[i][j]['state'] == EXPOSED and population[i][j]['time'] > tE or \n",
    "                        population[i][j]['state'] == ASYMPTOMATIC and population[i][j]['time'] > tA or\n",
    "                        population[i][j]['state'] == INFECTED and population[i][j]['time'] > tI):\n",
    "                        \n",
    "                        population[i][j]['time']=-1 # mark element to become a exposed (to be updated after all elements are visited)\n",
    "\n",
    "        for i in range(1, height - 1):\n",
    "            for j in range (1, width - 1):\n",
    "                if population[i][j]['time'] < 0:\n",
    "                    population[i][j]['time'] *= -1;\n",
    "                    if population[i][j]['state'] == SUSCEPTIBLE:\n",
    "                        population[i][j]['state'] = EXPOSED                            \n",
    "                    elif population[i][j]['state'] == EXPOSED:\n",
    "                        if np.random.random_sample() < pA:\n",
    "                            population[i][j]['state'] = ASYMPTOMATIC\n",
    "                            self.newA+=1\n",
    "                            #print('Exp->Asympt')\n",
    "                        else:\n",
    "                            population[i][j]['state'] = INFECTED\n",
    "                            self.newI+=1\n",
    "                            #print('Exp->Infect')\n",
    "                    elif population[i][j]['state'] == ASYMPTOMATIC:\n",
    "                        if np.random.random_sample() < pR:\n",
    "                            population[i][j]['state'] = RECOVERED\n",
    "                            #print('Asympt->Recover')\n",
    "                        else:\n",
    "                            population[i][j]['state'] = INFECTED\n",
    "                            self.newI+=1\n",
    "                            #print('Asympt->Infect')\n",
    "                    elif population[i][j]['state'] == INFECTED:\n",
    "                        population[i][j]['state'] = RECOVERED\n",
    "                        #print('Infect->Recov')\n",
    "                        \n",
    "        return population\n",
    "    \n",
    "    def plot_chart(self):\n",
    "        display.clear_output(wait=True)\n",
    "        plt.xlabel('Time (days)')\n",
    "        plt.ylabel('Population')\n",
    "\n",
    "        plt.plot(self.vec_days, self.vec_susceptible)\n",
    "        plt.plot(self.vec_days, self.vec_exposed)\n",
    "        plt.plot(self.vec_days, self.vec_asymptomatic)\n",
    "        plt.plot(self.vec_days, self.vec_infected)\n",
    "        plt.plot(self.vec_days, self.vec_recovered)\n",
    "        plt.plot(self.vec_days, self.vec_new_exposed)\n",
    "        plt.plot(self.vec_days, self.vec_new_asymptomatic)\n",
    "        plt.plot(self.vec_days, self.vec_new_infected)\n",
    "        plt.show()\n",
    "        \n",
    "        \n",
    "    \n",
    "    def run(self):\n",
    "        start_time = time.time()\n",
    "        while(self.nI > 0):\n",
    "            self.x = self.update_state(self.x)\n",
    "            if show_grid is True:\n",
    "                draw(self.x, self.canvas, self.day, self.nS, self.nE, self.nA, self.nI, self.nR, self.newE, self.newA, self.newI)\n",
    "            sleep(0.1)\n",
    "            self.plot_chart()\n",
    "        end_time = time.time() - start_time\n",
    "\n",
    "        output_filename = \"%s%f_G=%f_L=%f_lambda=%f_ro=%f_pA=%f_pR=%f%s\" % ('results/SEAIR_results_',start_time,G,L,plambda,ro,pA,pR,'.dat')\n",
    "        \n",
    "        print(output_filename)\n",
    "        \n",
    "        f = open(output_filename, 'a')\n",
    "        for i in range(0, len(self.vec_days)):\n",
    "            line = \"%d,%d,%d,%d,%d,%d,%d,%d,%d\\n\" % (self.vec_days[i], \n",
    "                                         self.vec_susceptible[i],\n",
    "                                         self.vec_exposed[i],\n",
    "                                         self.vec_asymptomatic[i],\n",
    "                                         self.vec_infected[i],\n",
    "                                         self.vec_recovered[i],\n",
    "                                         self.vec_new_exposed[i],\n",
    "                                         self.vec_new_asymptomatic[i],\n",
    "                                         self.vec_new_infected[i])\n",
    "            f.write(line);\n",
    "        f.close()\n",
    "        \n",
    "        self.results_file = output_filename\n",
    "        print('Done. Elapsed time: ', end_time)"
   ]
  },
  {
   "cell_type": "code",
   "execution_count": 15,
   "metadata": {},
   "outputs": [
    {
     "data": {
      "application/vnd.jupyter.widget-view+json": {
       "model_id": "dc896e762e6b4f70bae65be57f35117d",
       "version_major": 2,
       "version_minor": 0
      },
      "text/plain": [
       "MultiCanvas(height=510, width=910)"
      ]
     },
     "metadata": {},
     "output_type": "display_data"
    }
   ],
   "source": [
    "show_grid = True\n",
    "\n",
    "grid_animation = MultiCanvas(2, width=width*cell_w + 400, height=height*cell_h)\n",
    "grid_animation[0].fill_style = '#FFFFFF'\n",
    "grid_animation[0].fill_rect(0, 0, grid_animation.size[0], grid_animation.size[1])\n",
    "grid_animation[1].fill_style = '#FFFFFF'\n",
    "\n",
    "draw(population, grid_animation[1], 1, size * size - 1, 0, 0, 1, 0, 0, 0, 0)\n",
    "grid_animation"
   ]
  },
  {
   "cell_type": "code",
   "execution_count": 16,
   "metadata": {},
   "outputs": [
    {
     "data": {
      "image/png": "[encoded data removed]",
      "text/plain": [
       "<Figure size 432x288 with 1 Axes>"
      ]
     },
     "metadata": {
      "needs_background": "light"
     },
     "output_type": "display_data"
    },
    {
     "name": "stdout",
     "output_type": "stream",
     "text": [
      "results/SEAIR_results_1584943312.192964_G=0.100000_L=0.900000_lambda=0.300000_ro=0.500000_pA=0.300000_pR=0.500000.dat\n",
      "Done. Elapsed time:  216.19077730178833\n"
     ]
    }
   ],
   "source": [
    "model = SEAIR(x, grid_animation[1])\n",
    "model.start()"
   ]
  },
  {
   "cell_type": "markdown",
   "metadata": {},
   "source": [
    "### Export results file:"
   ]
  },
  {
   "cell_type": "code",
   "execution_count": 17,
   "metadata": {},
   "outputs": [
    {
     "data": {
      "text/html": [
       "<a href='results/SEAIR_results_1584943312.192964_G=0.100000_L=0.900000_lambda=0.300000_ro=0.500000_pA=0.300000_pR=0.500000.dat' target='_blank'>results/SEAIR_results_1584943312.192964_G=0.100000_L=0.900000_lambda=0.300000_ro=0.500000_pA=0.300000_pR=0.500000.dat</a><br>"
      ],
      "text/plain": [
       "C:\\Users\\Lilian\\projetos\\SEAIR\\results\\SEAIR_results_1584943312.192964_G=0.100000_L=0.900000_lambda=0.300000_ro=0.500000_pA=0.300000_pR=0.500000.dat"
      ]
     },
     "execution_count": 17,
     "metadata": {},
     "output_type": "execute_result"
    }
   ],
   "source": [
    "FileLink(model.results_file)"
   ]
  },
  {
   "cell_type": "code",
   "execution_count": null,
   "metadata": {},
   "outputs": [],
   "source": []
  },
  {
   "cell_type": "code",
   "execution_count": null,
   "metadata": {},
   "outputs": [],
   "source": []
  }
 ],
 "metadata": {
  "kernelspec": {
   "display_name": "Python 3",
   "language": "python",
   "name": "python3"
  },
  "language_info": {
   "codemirror_mode": {
    "name": "ipython",
    "version": 3
   },
   "file_extension": ".py",
   "mimetype": "text/x-python",
   "name": "python",
   "nbconvert_exporter": "python",
   "pygments_lexer": "ipython3",
   "version": "3.7.6"
  }
 },
 "nbformat": 4,
 "nbformat_minor": 4
}
